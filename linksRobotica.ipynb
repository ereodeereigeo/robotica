{
 "cells": [
  {
   "cell_type": "code",
   "execution_count": 1,
   "metadata": {
    "collapsed": false
   },
   "outputs": [],
   "source": [
    "from IPython.display import HTML"
   ]
  },
  {
   "cell_type": "markdown",
   "metadata": {},
   "source": [
    "##Artículo de Simulación de Robótica"
   ]
  },
  {
   "cell_type": "code",
   "execution_count": 4,
   "metadata": {
    "collapsed": true
   },
   "outputs": [
    {
     "data": {
      "text/html": [
       "<iframe src=http://en.wikipedia.org/wiki/Robotics_simulator width=600 height=350></iframe>"
      ],
      "text/plain": [
       "<IPython.core.display.HTML object>"
      ]
     },
     "execution_count": 4,
     "metadata": {},
     "output_type": "execute_result"
    }
   ],
   "source": [
    "HTML('<iframe src=http://en.wikipedia.org/wiki/Robotics_simulator width=600 height=350></iframe>')"
   ]
  },
  {
   "cell_type": "markdown",
   "metadata": {},
   "source": [
    "##Entornos de Simulación"
   ]
  },
  {
   "cell_type": "markdown",
   "metadata": {},
   "source": [
    "* [RoKiSim][2]\n",
    "* [RoboDK][3]\n",
    "* [RoboAnalizer][4]\n",
    "* [ARS][5]\n",
    "* [breve][6]\n",
    "* [EZPhysics][7]\n",
    "* [Gazebo][8] : Simulador open source más completo\n",
    "* [Kephera Simulator][9]\n",
    "* [Klamp't][10]\n",
    "* [LpzRobots][11]\n",
    "* [miniBloq][12]\n",
    "* [Moby][13]\n",
    "* [MORSE][14] : basado en blender 3D\n",
    "* [OpenHRP3][15]\n",
    "* [OpenSim][16]\n",
    "* [ORCA-Sim][17]\n",
    "* [Robotics Toolbox for MATLAB][18]\n",
    "* [Simbad 3D Robot SImulator][19]\n",
    "* [SimRobot][20]\n",
    "* [Stage][21]\n",
    "* [STDR][22]\n",
    "* [UCHILSIM][23]: Simulador físico para los robots AIBO introducidos en la RoboCup 2004\n",
    "* [v-rep][24]\n",
    "* [UWSim][25]\n",
    "* [UWA Robot Simulators][26]\n",
    "\n",
    "[9]:http://www.pilat.org/khepgpsim/\n",
    "[21]:http://playerstage.sourceforge.net/\n",
    "[18]:http://www.petercorke.com/Robotics_Toolbox.html\n",
    "[10]:http://motion.pratt.duke.edu/klampt/\n",
    "[24]:http://www.coppeliarobotics.com/\n",
    "[4]:http://www.roboanalyzer.com/\n",
    "[3]:https://www.robodk.com/\n",
    "[2]:http://www.parallemic.org/RoKiSim.html\n",
    "[11]:http://robot.informatik.uni-leipzig.de/software/\n",
    "[8]:http://gazebosim.org/\n",
    "[5]:http://ars-project.readthedocs.org/en/latest/index.html"
   ]
  },
  {
   "cell_type": "markdown",
   "metadata": {},
   "source": [
    "## Simuladores Comerciales\n",
    "\n",
    "* [Actin Simulation toolkit][1]\n",
    "* [AnyKode Marilou][2] [wiki]:[a]\n",
    "* [Cogmation robotSim][3]\n",
    "* [COSIMIR][4]\n",
    "* [Microsoft Robotics Developer Studio][5]\n",
    "* [RoboDK][6]\n",
    "* [RoboLogix][7]\n",
    "* [SimplyCube][8]\n",
    "* [V-REP Pro][9]\n",
    "* [Visual Components][10]\n",
    "* [Webots][11]\n",
    "* [IT+Robotics][12]\n",
    "* [Workspace 5][13]\n",
    "\n",
    "[1]:http://www.anykode.com/index.php\n",
    "[a]:http://en.wikipedia.org/wiki/AnyKode_Marilou\n",
    "[6]:https://www.robodk.com/\n",
    "[11]:http://www.cyberbotics.com/\n",
    "[12]:http://www.it-robotics.it/products/3d-simulation/workcellsimulator/?lang=en"
   ]
  },
  {
   "cell_type": "markdown",
   "metadata": {},
   "source": [
    "## Physics Engines\n",
    "\n",
    "* [ODE][1] [wiki][a]\n",
    "* [PhysX][2] [wiki][b]\n",
    "* [Bullet][3]\n",
    "* [Havok][4]\n",
    "* [MuJoCo][5]\n",
    "\n",
    "* [**Paper de comparación entre estos engines**][6]\n",
    "\n",
    "[6]:https://homes.cs.washington.edu/~todorov/papers/ErezICRA15.pdf\n",
    "[a]:http://en.wikipedia.org/wiki/Open_Dynamics_Engine\n",
    "[1]:http://www.ode.org/\n",
    "[b]:http://en.wikipedia.org/wiki/PhysX\n",
    "[2]:https://developer.nvidia.com/gameworks-physx-overview"
   ]
  },
  {
   "cell_type": "markdown",
   "metadata": {},
   "source": [
    "##Robots educativos\n",
    "\n",
    "* [e-puck][1]\n",
    "* [NAO][2]\n",
    "* [Lego MindStorm][3] [wiki][a]\n",
    "* [Romba][4] [wiki][b]\n",
    "* [Mooway](http://moway-robot.com/)\n",
    "* [Kephera III](http://www.k-team.com/mobile-robotics-products/old-products/khepera-iii)\n",
    "* [Pioneer P3-DX](http://www.mobilerobots.com/researchrobots/pioneerp3dx.aspx)\n",
    "\n",
    "[4]:http://www.irobotchile.cl/\n",
    "[b]:http://es.wikipedia.org/wiki/Roomba\n",
    "[a]:http://es.wikipedia.org/wiki/Lego_Mindstorms\n",
    "[2]:https://www.aldebaran.com/en/humanoid-robot/nao-robot\n",
    "[1]:http://www.e-puck.org/"
   ]
  },
  {
   "cell_type": "markdown",
   "metadata": {},
   "source": [
    "## Robots de investigación\n",
    "\n",
    "* [DOMO](http://people.csail.mit.edu/edsinger/domo.htm)"
   ]
  },
  {
   "cell_type": "markdown",
   "metadata": {},
   "source": [
    "## Robots industriales\n",
    "\n",
    "* [SIA20D/SIA20F](http://www.motoman.co.uk/en/products/robots/product-view/?tx_catalogrobot_pi1%5Buid%5D=613&cHash=1290cce91dbb5344c1c5f3fced2c2bf0)"
   ]
  },
  {
   "cell_type": "markdown",
   "metadata": {},
   "source": [
    "## Soft Robotics\n",
    "\n",
    "* [Soft Robotics Toolkit](http://softroboticstoolkit.com/)"
   ]
  },
  {
   "cell_type": "markdown",
   "metadata": {},
   "source": [
    "##OS para robots\n",
    "\n",
    "* [URBI][1] [wiki][a]\n",
    "* [ROS][2] [wiki][b] [Robots que usan ROS][1.1]\n",
    "    * Artículos sobre ROS:\n",
    "        * [Robot Operating System Making Its Way Into Industrial Robotics](Robot Operating System Making Its Way Into Industrial Robotics)\n",
    "\n",
    "[1.1]:http://wiki.ros.org/Robots\n",
    "[a]:http://es.wikipedia.org/wiki/Urbi\n",
    "[b]:http://en.wikipedia.org/wiki/Robot_Operating_System\n",
    "[1]:http://sourceforge.net/projects/urbi/\n",
    "[2]:http://www.ros.org/"
   ]
  },
  {
   "cell_type": "markdown",
   "metadata": {},
   "source": [
    "## Kits sofware y hardware open source\n",
    "\n",
    "* [Rapid Robot Prototyping](http://tinito.net/wordpress/about/)"
   ]
  },
  {
   "cell_type": "markdown",
   "metadata": {},
   "source": [
    "## Middleware\n",
    "\n",
    "* [FAMOUSO](http://famouso.sourceforge.net/)"
   ]
  },
  {
   "cell_type": "markdown",
   "metadata": {},
   "source": [
    "##Otros links de interes\n",
    "\n",
    "\n",
    "* [Roboearth Internet para robots](http://spectrum.ieee.org/automaton/robotics/artificial-intelligence/roboearth-a-world-wide-web-for-robots) [pag oficial](http://roboearth.org/)\n",
    "* [OpenSlam][1] [Gmapping][a]\n",
    "* [OpenRave][2] \n",
    "* [OpenCV][3]\n",
    "* [Blender Robotics Tutorials][4]\n",
    "* [Descripción y comparación de entornos de simulación][5]\n",
    "* [WHAT ARE THE COMMUNICATION PROTOCOLS USED IN INDUSTRIAL ROBOTICS?](http://blog.robotiq.com/bid/32559/What-Are-The-Communication-Protocols-Used-In-Industrial-Robotics)\n",
    "* [5 REASONS WHY INDUSTRIAL ROBOTS ARE STAGNATING](http://blog.robotiq.com/bid/34399/5-Reasons-Why-Industrial-Robots-are-Stagnating)\n",
    "* [Adept mobile robots](http://www.adept.com/products/mobile-robots)\n",
    "\n",
    "[5]:http://www.smashingrobotics.com/most-advanced-and-used-robotics-simulation-software/\n",
    "[4]:http://www.warp1337.com/content/blender-robotics-part-1-introduction-and-modelling \n",
    "[3]:http://opencv.org/\n",
    "[2]:http://openrave.org/\n",
    "[1]:https://openslam.org/\n",
    "[a]:https://www.openslam.org/gmapping.html"
   ]
  },
  {
   "cell_type": "code",
   "execution_count": 6,
   "metadata": {
    "collapsed": true
   },
   "outputs": [
    {
     "data": {
      "text/html": [
       "<iframe src=http://en.wikipedia.org/wiki/Category:Robotics_suites width=600 height=350></iframe>"
      ],
      "text/plain": [
       "<IPython.core.display.HTML object>"
      ]
     },
     "execution_count": 6,
     "metadata": {},
     "output_type": "execute_result"
    }
   ],
   "source": [
    "HTML('<iframe src=http://en.wikipedia.org/wiki/Category:Robotics_suites width=600 height=350></iframe>')"
   ]
  },
  {
   "cell_type": "code",
   "execution_count": 7,
   "metadata": {
    "collapsed": true
   },
   "outputs": [
    {
     "data": {
      "text/html": [
       "<iframe src=http://en.wikipedia.org/wiki/Python_Robotics width=600 height=350></iframe>"
      ],
      "text/plain": [
       "<IPython.core.display.HTML object>"
      ]
     },
     "execution_count": 7,
     "metadata": {},
     "output_type": "execute_result"
    }
   ],
   "source": [
    "HTML('<iframe src=http://en.wikipedia.org/wiki/Python_Robotics width=600 height=350></iframe>')"
   ]
  },
  {
   "cell_type": "code",
   "execution_count": 8,
   "metadata": {
    "collapsed": true
   },
   "outputs": [
    {
     "data": {
      "text/html": [
       "<iframe src=http://en.wikipedia.org/wiki/Portal:Robotics width=600 height=350></iframe>"
      ],
      "text/plain": [
       "<IPython.core.display.HTML object>"
      ]
     },
     "execution_count": 8,
     "metadata": {},
     "output_type": "execute_result"
    }
   ],
   "source": [
    "HTML('<iframe src=http://en.wikipedia.org/wiki/Portal:Robotics width=600 height=350></iframe>')"
   ]
  },
  {
   "cell_type": "code",
   "execution_count": null,
   "metadata": {
    "collapsed": false
   },
   "outputs": [],
   "source": []
  }
 ],
 "metadata": {
  "kernelspec": {
   "display_name": "Python 2",
   "language": "python",
   "name": "python2"
  },
  "language_info": {
   "codemirror_mode": {
    "name": "ipython",
    "version": 2
   },
   "file_extension": ".py",
   "mimetype": "text/x-python",
   "name": "python",
   "nbconvert_exporter": "python",
   "pygments_lexer": "ipython2",
   "version": "2.7.6"
  }
 },
 "nbformat": 4,
 "nbformat_minor": 0
}
